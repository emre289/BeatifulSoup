{
 "cells": [
  {
   "cell_type": "code",
   "execution_count": 4,
   "id": "ce4f2136",
   "metadata": {},
   "outputs": [
    {
     "name": "stdout",
     "output_type": "stream",
     "text": [
      "1- Film Adı: The Shawshank Redemption                                               Yapım Yılı: 1994 Puanı: 9.2\n",
      "2- Film Adı: The Godfather                                                          Yapım Yılı: 1972 Puanı: 9.2\n",
      "3- Film Adı: The Dark Knight                                                        Yapım Yılı: 2008 Puanı: 9.0\n",
      "4- Film Adı: The Godfather Part II                                                  Yapım Yılı: 1974 Puanı: 9.0\n",
      "5- Film Adı: 12 Angry Men                                                           Yapım Yılı: 1957 Puanı: 8.9\n",
      "6- Film Adı: Schindler's List                                                       Yapım Yılı: 1993 Puanı: 8.9\n",
      "7- Film Adı: The Lord of the Rings: The Return of the King                          Yapım Yılı: 2003 Puanı: 8.9\n",
      "8- Film Adı: Pulp Fiction                                                           Yapım Yılı: 1994 Puanı: 8.9\n",
      "9- Film Adı: The Lord of the Rings: The Fellowship of the Ring                      Yapım Yılı: 2001 Puanı: 8.8\n",
      "10- Film Adı: Il buono, il brutto, il cattivo                                        Yapım Yılı: 1966 Puanı: 8.8\n",
      "11- Film Adı: Forrest Gump                                                           Yapım Yılı: 1994 Puanı: 8.8\n",
      "12- Film Adı: Fight Club                                                             Yapım Yılı: 1999 Puanı: 8.7\n",
      "13- Film Adı: Inception                                                              Yapım Yılı: 2010 Puanı: 8.7\n",
      "14- Film Adı: The Lord of the Rings: The Two Towers                                  Yapım Yılı: 2002 Puanı: 8.7\n",
      "15- Film Adı: The Empire Strikes Back                                                Yapım Yılı: 1980 Puanı: 8.7\n",
      "16- Film Adı: The Matrix                                                             Yapım Yılı: 1999 Puanı: 8.7\n",
      "17- Film Adı: Goodfellas                                                             Yapım Yılı: 1990 Puanı: 8.7\n",
      "18- Film Adı: One Flew Over the Cuckoo's Nest                                        Yapım Yılı: 1975 Puanı: 8.6\n",
      "19- Film Adı: Se7en                                                                  Yapım Yılı: 1995 Puanı: 8.6\n",
      "20- Film Adı: Shichinin no samurai                                                   Yapım Yılı: 1954 Puanı: 8.6\n"
     ]
    }
   ],
   "source": [
    "import requests\n",
    "from bs4 import BeautifulSoup\n",
    "\n",
    "# Veriyi Çekeceğimiz Site\n",
    "url=\"https://www.imdb.com/chart/top/?ref_=nv_mv_250\"\n",
    "# html olarak veriyi çekeceğiz. Content-Sağ tıkla incele dediğimiz olduğu gibi geliyor \n",
    "html=requests.get(url).content\n",
    "#BeautifulSoup kütüphanesinden soup nesnesi oluşturduk. Bu nesneye çektiğimiz html uygun bir çalışma yapar parsel ile\n",
    "soup=BeautifulSoup(html,\"html.parser\")\n",
    "\n",
    "#find metodu bulduğu ilk tbody alacak\n",
    "# tüm tbody istesek find all demeliyiz.\n",
    "# clası lister list olanı getir\n",
    "list=soup.find(\"tbody\",{\"class\":\"lister-list\"}).find_all(\"tr\",limit=20)\n",
    "count=0\n",
    "for tr in list:\n",
    "    title=tr.find(\"td\",{\"class\":\"titleColumn\"}).find(\"a\").text\n",
    "    #strip silinmesi gereken karekter\n",
    "    year= tr.find(\"td\",{\"class\":\"titleColumn\"}).find(\"span\").text.strip(\"()\")\n",
    "    rating=tr.find(\"td\",{\"class\":\"ratingColumn\"}).find(\"strong\").text\n",
    "    count+=1\n",
    "    \n",
    "    #ljust sola doğru 50 karekter yasla\n",
    "    print(f\"{count}- Film Adı: {title.ljust(70)} Yapım Yılı: {year} Puanı: {rating}\")"
   ]
  },
  {
   "cell_type": "code",
   "execution_count": null,
   "id": "7fb61705",
   "metadata": {},
   "outputs": [],
   "source": []
  }
 ],
 "metadata": {
  "kernelspec": {
   "display_name": "Python 3 (ipykernel)",
   "language": "python",
   "name": "python3"
  },
  "language_info": {
   "codemirror_mode": {
    "name": "ipython",
    "version": 3
   },
   "file_extension": ".py",
   "mimetype": "text/x-python",
   "name": "python",
   "nbconvert_exporter": "python",
   "pygments_lexer": "ipython3",
   "version": "3.9.7"
  }
 },
 "nbformat": 4,
 "nbformat_minor": 5
}
